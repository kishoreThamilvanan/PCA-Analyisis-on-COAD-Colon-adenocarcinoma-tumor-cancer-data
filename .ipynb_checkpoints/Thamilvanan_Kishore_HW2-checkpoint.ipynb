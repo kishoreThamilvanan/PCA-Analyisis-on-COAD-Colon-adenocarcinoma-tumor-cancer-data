{
 "cells": [
  {
   "cell_type": "markdown",
   "metadata": {},
   "source": [
    "# CSE351 Summer 2019 HW2\n",
    "## Due: Monay 24th June , 2019\n",
    "The goal of this HW is to clean the data and perform PCA analysis on RNAseq gene expression data collected from 500 (COAD) Colon adenocarcinoma tumors (one of prevalent types of cancer) from [TCGA data Portal](https://tcga-data.nci.nih.gov/docs/publications/tcga/?) \n",
    "\n",
    "\n",
    "\n",
    "\n",
    "Perform the following steps:\n",
    "\n",
    "1. Go to Documents, in folder named Data, download the file named TCGA_COAD. This file contains the COAD cancer data.\n",
    "2. \tRead this file in Python. The first column of the file contains the gene IDs and the first row contains the patient IDs. The numerical values are the gene expression measured using RNA-seq\n",
    "3.\tClean the data.\n",
    "    -  check if there are missing values and relplace them by mean of each column\n",
    "    - check if there are any outliers and replace them by median of each column\n",
    "    -  Normalize the data per column. \n",
    "4. \tPerform the PCA analysis on patients. Compute how much of variation is explained by each principle component. If you want to compress these data, how many PCs you would choose. elaborate.\n"
   ]
  },
  {
   "cell_type": "code",
   "execution_count": null,
   "metadata": {},
   "outputs": [],
   "source": []
  },
  {
   "cell_type": "code",
   "execution_count": 29,
   "metadata": {},
   "outputs": [],
   "source": [
    "#1) TCGA_COAD file\n",
    "\n",
    "\n",
    "import pandas as pd\n",
    "import numpy as np\n",
    "import datetime as dtime\n",
    "import matplotlib.pylab as plt\n",
    "%matplotlib inline\n",
    "from matplotlib.pylab import rcParams\n",
    "rcParams['figure.figsize'] = 15, 6\n"
   ]
  },
  {
   "cell_type": "code",
   "execution_count": 32,
   "metadata": {},
   "outputs": [],
   "source": [
    "#2) read the file in python.\n",
    "filepath = \"/Users/Kishore Thamilvanan/Desktop/kishes point/Stony Brook Academics/Summer 2019/CSE 351/Data/COAD.uncv2.mRNAseq_RSEM_normalized_log2.csv\"\n",
    "rawdata = pd.read_csv(filepath)\n",
    "# rawdata"
   ]
  },
  {
   "cell_type": "code",
   "execution_count": 34,
   "metadata": {},
   "outputs": [],
   "source": [
    "#3.a) checking for missing values. if there are replacing them with median values.\n",
    "\n",
    "meanfilleddata = rawdata.fillna(rawdata.mean())\n",
    "# print(meanfilleddata)"
   ]
  },
  {
   "cell_type": "code",
   "execution_count": 36,
   "metadata": {},
   "outputs": [],
   "source": [
    "# 3.b) check if there are any outliers and replace them by median of each column\n",
    "\n",
    "# defining the quantiles q1, q3\n",
    "q1 = meanfilleddata.quantile(0.25)\n",
    "q3 = meanfilleddata.quantile(0.75)\n",
    "\n",
    "# Interquantile range\n",
    "iqr = q3 - q1\n",
    "\n",
    "lq = (q1 - 1.5 * iqr)\n",
    "hq = (q3 + 1.5 * iqr)\n",
    "\n",
    "# print(lq, hq)"
   ]
  },
  {
   "cell_type": "code",
   "execution_count": 55,
   "metadata": {},
   "outputs": [],
   "source": [
    "data = meanfilleddata\n",
    "\n",
    "median = data.median()\n",
    "outliers = ~((data < lq) | (data > hq))\n",
    "newd = data[outliers]\n",
    "\n",
    "# filling the outliers with median.\n",
    "newd.fillna(median, inplace = True)\n",
    "# print(newd)\n"
   ]
  },
  {
   "cell_type": "code",
   "execution_count": null,
   "metadata": {},
   "outputs": [],
   "source": []
  },
  {
   "cell_type": "code",
   "execution_count": 82,
   "metadata": {},
   "outputs": [],
   "source": [
    "# 3.c) normalization.\n",
    "\n",
    "# newd_mean = newd.mean()\n",
    "# newd_std = newd.std()"
   ]
  },
  {
   "cell_type": "code",
   "execution_count": 92,
   "metadata": {},
   "outputs": [],
   "source": [
    "# subtracting the values using a for loop\n",
    "\n",
    "# for column in newd.columns:\n",
    "# ndata = (newd - newd.mean())?\n",
    "\n",
    "index = newd['gene']\n",
    "drpdata = newd.drop('gene', 1)\n",
    "\n",
    "drpdata = (drpdata - drpdata.mean())/drpdata.std()\n",
    "nrmdata = pd.concat([index, drpdata], axis=1)\n"
   ]
  },
  {
   "cell_type": "code",
   "execution_count": 94,
   "metadata": {},
   "outputs": [],
   "source": [
    "# 4) PCA analysis\n",
    "\n",
    "from sklearn.decomposition import PCA\n",
    "from sklearn import preprocessing"
   ]
  },
  {
   "cell_type": "code",
   "execution_count": 100,
   "metadata": {},
   "outputs": [
    {
     "data": {
      "text/plain": [
       "PCA(copy=True, iterated_power='auto', n_components=2, random_state=None,\n",
       "  svd_solver='auto', tol=0.0, whiten=False)"
      ]
     },
     "execution_count": 100,
     "metadata": {},
     "output_type": "execute_result"
    }
   ],
   "source": [
    "pca = PCA(n_components = 2)\n",
    "pca.fit(drpdata)"
   ]
  },
  {
   "cell_type": "code",
   "execution_count": 101,
   "metadata": {},
   "outputs": [
    {
     "name": "stdout",
     "output_type": "stream",
     "text": [
      "[[ 4.59574886e-02  4.46688838e-02  4.44993145e-02  4.58814061e-02\n",
      "   4.60002454e-02  4.38552455e-02  4.59526758e-02  4.56020651e-02\n",
      "   4.40195865e-02  4.24425111e-02  4.59645694e-02  4.39809803e-02\n",
      "   4.41941501e-02  4.20655313e-02  4.47178816e-02  4.60388717e-02\n",
      "   4.45434500e-02  4.45131338e-02  4.59400939e-02  4.46699182e-02\n",
      "   4.55122828e-02  4.43662444e-02  4.44959029e-02  4.64336196e-02\n",
      "   4.52674805e-02  4.56942397e-02  4.39532396e-02  4.63154028e-02\n",
      "   4.64727352e-02  4.47205044e-02  4.26001187e-02  4.53413843e-02\n",
      "   4.55678547e-02  4.40894700e-02  4.52075595e-02  4.45543679e-02\n",
      "   4.42679218e-02  4.58793492e-02  4.66420769e-02  4.51485525e-02\n",
      "   4.63187990e-02  4.55347727e-02  4.53647385e-02  4.58664372e-02\n",
      "   4.58498995e-02  4.61206975e-02  4.37447740e-02  4.51024176e-02\n",
      "   4.49220896e-02  4.50987646e-02  4.47852850e-02  4.30373358e-02\n",
      "   4.60027953e-02  4.51907149e-02  4.40515649e-02  4.53049099e-02\n",
      "   4.41289894e-02  4.41726163e-02  4.18448753e-02  4.43679492e-02\n",
      "   4.51662375e-02  4.66725815e-02  4.10103945e-02  4.56859479e-02\n",
      "   4.47211843e-02  4.65108793e-02  4.59173165e-02  4.42963005e-02\n",
      "   4.67553063e-02  4.47361171e-02  4.29379101e-02  4.42863795e-02\n",
      "   4.36491543e-02  4.45133136e-02  4.45224010e-02  4.47323858e-02\n",
      "   4.55994660e-02  4.43935878e-02  4.42185248e-02  4.44995781e-02\n",
      "   4.36716056e-02  4.55009309e-02  4.37714513e-02  4.66701919e-02\n",
      "   4.35400834e-02  4.57915136e-02  4.31043653e-02  4.46541813e-02\n",
      "   4.62708420e-02  4.60160267e-02  4.45222053e-02  4.64972970e-02\n",
      "   4.41303146e-02  4.66322008e-02  4.34593732e-02  4.57854474e-02\n",
      "   4.41817234e-02  4.55085705e-02  4.50391970e-02  4.49682035e-02\n",
      "   4.44400200e-02  4.54564561e-02  4.68736949e-02  4.48397788e-02\n",
      "   4.50231599e-02  4.62992317e-02  4.54759234e-02  4.62469667e-02\n",
      "   4.51994521e-02  4.63518177e-02  4.43241728e-02  4.63084820e-02\n",
      "   4.55058040e-02  4.53279246e-02  4.53514483e-02  4.34427848e-02\n",
      "   4.53279910e-02  4.58927453e-02  4.60845724e-02  4.17838916e-02\n",
      "   4.54660175e-02  4.59629899e-02  4.54007046e-02  4.62267747e-02\n",
      "   4.49957260e-02  4.62985253e-02  4.41210960e-02  4.51575727e-02\n",
      "   4.16135757e-02  4.43706887e-02  4.49590268e-02  4.61193288e-02\n",
      "   4.64230789e-02  4.60099015e-02  4.51373672e-02  4.54361567e-02\n",
      "   4.40967696e-02  4.22492208e-02  4.44651562e-02  4.38873915e-02\n",
      "   4.44002406e-02  4.66152593e-02  4.40650974e-02  4.58132741e-02\n",
      "   4.26895939e-02  4.63865647e-02  3.85124367e-02  4.60176746e-02\n",
      "   4.59163669e-02  4.24124477e-02  4.49455267e-02  4.49391951e-02\n",
      "   4.55296825e-02  4.47914765e-02  4.19646628e-02  4.58896063e-02\n",
      "   4.55234087e-02  4.56516707e-02  4.53603167e-02  4.42616905e-02\n",
      "   4.55653652e-02  4.62700502e-02  4.63063660e-02  4.64780892e-02\n",
      "   4.49671981e-02  4.46025056e-02  4.49020610e-02  4.54147156e-02\n",
      "   4.57223407e-02  4.38943619e-02  4.34968010e-02  4.10726727e-02\n",
      "   4.62767959e-02  4.47017437e-02  4.58054769e-02  4.38842424e-02\n",
      "   4.50340155e-02  4.64328328e-02  4.66272764e-02  4.60005089e-02\n",
      "   4.44166528e-02  4.54430927e-02  4.44560706e-02  4.35634632e-02\n",
      "   4.44104243e-02  4.55689758e-02  4.55714950e-02  4.63831275e-02\n",
      "   4.53906986e-02  4.43599327e-02  4.59584692e-02  4.64457863e-02\n",
      "   4.55787925e-02  4.52778413e-02  4.38953420e-02  4.57063600e-02\n",
      "   4.36237433e-02  4.63238343e-02  4.45399178e-02  4.60889091e-02\n",
      "   4.43891097e-02  4.45944691e-02  4.59002210e-02  4.62083742e-02\n",
      "   4.64045865e-02  4.59447092e-02  4.59231617e-02  4.47796492e-02\n",
      "   4.60557004e-02  4.63310210e-02  4.34863689e-02  4.55860274e-02\n",
      "   4.57394200e-02  4.54478229e-02  4.57087821e-02  4.57555984e-02\n",
      "   4.58090072e-02  4.38576332e-02  4.62639567e-02  4.39914345e-02\n",
      "   4.55695509e-02  4.52884826e-02  4.59716209e-02  4.37917630e-02\n",
      "   4.50821253e-02  4.57640983e-02  4.58874541e-02  4.58792834e-02\n",
      "   4.56032076e-02  4.54065804e-02  4.54917784e-02  4.59840434e-02\n",
      "   4.40094656e-02  4.51919654e-02  4.58674957e-02  4.65027680e-02\n",
      "   4.64055254e-02  4.64915989e-02  4.64879185e-02  4.52271689e-02\n",
      "   4.57373958e-02  4.48951288e-02  4.45623910e-02  4.43074801e-02\n",
      "   4.62401940e-02  4.51340705e-02  4.57837920e-02  4.47727521e-02\n",
      "   4.46583900e-02  4.25446855e-02  4.48758507e-02  4.43770854e-02\n",
      "   4.56164592e-02  4.57281975e-02  4.45163086e-02  4.62359025e-02\n",
      "   4.44247369e-02  4.46384714e-02  4.61000409e-02  4.62203937e-02\n",
      "   4.49991782e-02  4.45421736e-02  4.46327025e-02  4.49015739e-02\n",
      "   4.55664731e-02  4.50532420e-02  4.50561614e-02  4.43587528e-02\n",
      "   4.40402731e-02  4.27558893e-02  4.43438973e-02  4.36287449e-02\n",
      "   4.54527112e-02  4.63882839e-02  4.55703888e-02  4.52425501e-02\n",
      "   4.56533784e-02  4.66968216e-02  4.46865043e-02  4.54955735e-02\n",
      "   4.61889904e-02  4.54911793e-02  4.52998613e-02  4.60288505e-02\n",
      "   4.53247678e-02  4.39699773e-02  4.26763760e-02  4.61853991e-02\n",
      "   4.40295773e-02  4.41288381e-02  4.50470637e-02  4.55662462e-02\n",
      "   4.40870677e-02  4.66594782e-02  4.52438754e-02  4.59877252e-02\n",
      "   4.31350794e-02  4.45585160e-02  4.47477924e-02  4.41383791e-02\n",
      "   4.55085993e-02  4.57239271e-02  4.43583931e-02  4.51811756e-02\n",
      "   4.63396897e-02  4.50518080e-02  4.59333332e-02  4.48529589e-02\n",
      "   4.56245929e-02  4.56500224e-02  4.53215273e-02  4.46019362e-02\n",
      "   4.56275453e-02  4.55255053e-02  4.37937400e-02  4.44047474e-02\n",
      "   4.48194506e-02  4.61090470e-02  4.65283600e-02  4.62357156e-02\n",
      "   4.55155023e-02  4.58553609e-02  4.57308432e-02  4.57780654e-02\n",
      "   4.31109938e-02  4.41655254e-02  4.60665239e-02  4.06369168e-02\n",
      "   4.42108064e-02  4.37503971e-02  4.36256283e-02  4.26175668e-02\n",
      "   4.53154339e-02  4.59103995e-02  2.30012573e-02  4.55982976e-02\n",
      "   4.58240967e-02  4.02286463e-02  4.36778817e-02  4.50698153e-02\n",
      "   4.37281310e-02  4.50896143e-02  4.60194481e-02  4.29977599e-02\n",
      "   4.56568772e-02  4.47876814e-02  4.12022415e-02  4.44862592e-02\n",
      "   4.55028535e-02  4.50276437e-02  4.47989530e-02  4.64191247e-02\n",
      "   4.60146521e-02  4.51325040e-02  4.17059837e-02  4.29546996e-02\n",
      "   4.09738213e-02  4.56465062e-02  4.56829953e-02  4.42894538e-02\n",
      "   4.63213338e-02  4.56650126e-02  4.61181384e-02  4.01291253e-02\n",
      "   4.47694913e-02  4.29553383e-02  4.41009947e-02  4.57325132e-02\n",
      "   4.50121288e-02  4.60869262e-02  4.53842128e-02  4.41296280e-02\n",
      "   4.51408379e-02  4.28410959e-02  4.42879615e-02  4.63810576e-02\n",
      "   4.47493761e-02  4.51354343e-02  4.12434269e-02  3.94919213e-02\n",
      "   4.65634196e-02  4.62649523e-02  4.50175833e-02  4.57363577e-02\n",
      "   4.60895563e-02  4.26859376e-02  4.64106647e-02  4.55586303e-02\n",
      "   4.52956614e-02  3.85389130e-02  4.49660729e-02  4.14538873e-02\n",
      "   4.55013202e-02  4.16526970e-02  4.59556043e-02  4.50766282e-02\n",
      "   4.65304027e-02  4.65901804e-02  4.41061423e-02  4.58731062e-02\n",
      "   4.57287796e-02  4.33963483e-02  4.18472711e-02  4.24022948e-02\n",
      "   4.52477058e-02  4.44559195e-02  4.55927018e-02  4.30674882e-02\n",
      "   4.47298437e-02  4.49839518e-02  4.43296100e-02  4.50791370e-02\n",
      "   4.59856307e-02  4.64293085e-02  4.58464369e-02  4.61691843e-02\n",
      "   4.40231836e-02  4.41968742e-02  4.56347411e-02  4.56463793e-02\n",
      "   4.56605791e-02  4.46799304e-02  4.44041787e-02  4.49379233e-02\n",
      "   4.64118314e-02  4.46099129e-02  4.45725082e-02  4.48717451e-02\n",
      "   4.46378143e-02  3.50790981e-02  4.21201682e-02  4.11186103e-02\n",
      "   4.38178164e-02  4.40089028e-02  4.40400983e-02  4.37945870e-02\n",
      "   4.56063206e-02  4.48971991e-02  4.55356268e-02  4.53532668e-02\n",
      "   4.46419576e-02  4.59882545e-02  4.15796370e-02  4.36871124e-02\n",
      "   4.36503976e-02  4.53038097e-02  4.65345914e-02  4.44822965e-02\n",
      "   4.60307795e-02  4.58865507e-02  4.50439155e-02  1.87101912e-02\n",
      "   4.50379013e-02  4.40825710e-02  4.00421966e-02  4.62458812e-02\n",
      "   4.49853967e-02  4.59679229e-02  4.45948690e-02  4.60171606e-02\n",
      "   4.36511966e-02  4.59219646e-02  4.16617772e-02  4.54903548e-02\n",
      "   4.47049060e-02  4.60178518e-02  4.16098315e-02  4.54496965e-02\n",
      "   4.48804537e-02  4.47993926e-02  4.26778355e-02  4.57253481e-02\n",
      "   4.46477622e-02  4.46765701e-02  4.35995967e-02  4.16181072e-02\n",
      "   4.11960884e-02  4.03404196e-02  4.44545704e-02  4.38127026e-02\n",
      "   4.37088152e-02  4.16258360e-02  4.49740878e-02  4.49484972e-02\n",
      "   4.00340693e-02  4.44565767e-02  4.43309758e-02  4.21143135e-02\n",
      "   4.58771468e-02  3.83730091e-02  4.47704082e-02  4.47504213e-02\n",
      "   4.57667468e-02  4.00806266e-02  3.95731918e-02  4.25848714e-02\n",
      "   3.98546517e-02  4.46382688e-02  4.61712648e-02  4.27275026e-02]\n",
      " [-2.35879069e-02  2.85155521e-02  3.31717029e-02  2.79483732e-02\n",
      "   2.98114857e-02 -2.25207182e-02 -1.39247186e-03  2.47786326e-02\n",
      "  -9.91948736e-02 -1.15184141e-01 -5.17822527e-02 -1.06890493e-01\n",
      "  -9.82235983e-02 -8.76813341e-02 -8.53081359e-02 -9.60878666e-03\n",
      "  -9.07597396e-02 -7.49392190e-02 -3.58521899e-02 -8.44737153e-02\n",
      "  -6.95476265e-02 -9.25594718e-02 -9.58638181e-03 -2.01936509e-02\n",
      "   2.33865081e-02 -4.55299942e-02 -9.27305140e-02 -1.67570712e-02\n",
      "  -5.26111411e-03  1.02522471e-02 -1.22550349e-01 -1.47014223e-02\n",
      "  -5.79817569e-02 -9.80496821e-02  1.82478109e-02  3.35748760e-02\n",
      "  -9.03169440e-02 -2.53470948e-02 -2.33390974e-02 -2.18315124e-02\n",
      "   9.36193816e-03 -4.26905486e-03 -2.12614127e-02 -2.43616939e-02\n",
      "  -5.64283445e-02  8.78025253e-03 -8.42529466e-02  2.07561454e-02\n",
      "   3.88265577e-03 -6.00787710e-02  6.97916746e-03 -4.32488085e-02\n",
      "  -3.21907245e-02 -7.07828345e-02 -4.57028131e-02 -1.09082068e-03\n",
      "   1.09996679e-02 -8.18696409e-03 -9.77603699e-02 -5.90549420e-02\n",
      "   1.50894361e-02 -6.08444308e-03 -1.11976937e-01 -1.80930324e-02\n",
      "   7.38354316e-03 -2.00123535e-02  1.01606059e-02 -9.61640497e-02\n",
      "  -2.97390845e-02 -8.51876111e-02 -1.02116470e-01 -9.97522644e-02\n",
      "  -1.04388119e-01 -9.74005416e-02 -9.22351700e-02 -7.87582280e-02\n",
      "   1.57913149e-02 -1.01533637e-01 -9.46885983e-02 -9.24484026e-02\n",
      "  -9.94083232e-02  8.52424343e-03 -7.63500167e-02 -9.86277814e-03\n",
      "  -9.93556935e-02 -1.67086624e-03 -1.15703616e-01  2.25739461e-02\n",
      "   7.54427269e-03 -3.14487756e-03 -9.53021930e-02  5.29599782e-03\n",
      "  -9.05577568e-02 -4.69557287e-03 -7.69020570e-02 -3.92462027e-02\n",
      "  -3.71999397e-02 -1.25148120e-02  3.82852465e-02  3.22788703e-02\n",
      "   4.43517494e-02 -2.98027253e-02 -2.68305259e-02  4.19467058e-02\n",
      "   2.33723208e-02  9.39721707e-03 -1.78048974e-02 -4.68764846e-02\n",
      "  -2.95414753e-02  8.38131528e-03 -3.64980244e-02 -1.42185908e-03\n",
      "   1.07177888e-02  1.20130064e-02 -2.08226072e-02  4.59970206e-03\n",
      "  -5.87170246e-04 -3.29009173e-02  1.52689501e-02 -8.42082563e-02\n",
      "   7.33851191e-03  4.22614926e-03  3.44345797e-02 -9.99373318e-03\n",
      "   3.02018203e-02  3.40504422e-03  3.51597843e-02  9.08157324e-03\n",
      "  -6.20908364e-02  3.50028294e-02 -9.13175044e-03  9.53054967e-03\n",
      "   9.86879315e-03 -1.78136916e-02 -9.59375005e-03  1.37664602e-02\n",
      "  -1.01463269e-01  3.11537380e-02 -9.65963076e-02  1.95343195e-02\n",
      "  -9.12358241e-02 -3.95889295e-02 -1.07064942e-01 -2.88937261e-02\n",
      "  -1.08847934e-01 -2.71123137e-02 -1.12182357e-01 -5.28405545e-02\n",
      "   1.92420414e-02 -5.93514867e-02  5.42908319e-02 -5.93304141e-03\n",
      "   2.11171035e-02  2.29255057e-02  4.86935049e-03 -2.00864046e-02\n",
      "   1.72972640e-02 -1.27695288e-02 -6.51142125e-02 -2.28392201e-02\n",
      "  -3.06575036e-02 -3.59109623e-02 -1.39734671e-02 -3.95053570e-02\n",
      "  -1.91494443e-02  2.30691302e-02 -9.25543971e-04 -7.64340435e-03\n",
      "   1.37231121e-02  2.80385722e-02 -1.38094355e-02  2.11694368e-02\n",
      "  -1.68620842e-02 -3.03334732e-02 -3.08232639e-03  2.23002635e-02\n",
      "   3.88238680e-02 -1.02179896e-02 -3.96220281e-02 -2.22279823e-02\n",
      "  -6.19400658e-02 -2.15430336e-02 -4.99272906e-03  1.50659517e-02\n",
      "   1.21803393e-02 -3.14599729e-02  2.07787064e-02 -7.03381229e-03\n",
      "  -2.59875079e-02 -7.76499099e-02 -3.71008186e-02 -1.71574700e-02\n",
      "  -3.77324048e-02  1.53463577e-02 -9.22701361e-02 -6.94956684e-02\n",
      "  -3.52681738e-02 -2.90080341e-02 -5.63077684e-03 -3.32434115e-02\n",
      "  -3.79614211e-03  8.01683571e-03 -8.91648460e-03 -3.16407432e-03\n",
      "  -7.89535344e-03 -3.63396202e-02 -2.36003843e-02  2.05042518e-02\n",
      "  -2.51568929e-02 -4.32511281e-02  3.36574120e-02 -1.62826589e-02\n",
      "  -2.66076854e-02 -4.70015956e-03 -9.73206508e-03  2.41385006e-02\n",
      "   1.10277498e-03 -8.93341243e-02 -1.17746962e-02  1.05399329e-04\n",
      "   3.32148017e-02  8.64297799e-03 -4.44795595e-02  1.95237863e-02\n",
      "  -2.38438071e-02 -3.00158136e-02 -1.74670071e-02 -3.79468472e-02\n",
      "  -1.07782300e-02 -2.45606559e-02 -1.85156952e-02 -1.71629868e-02\n",
      "  -6.48592231e-02  6.58040597e-03 -3.43117392e-02 -3.10819514e-02\n",
      "  -7.49464319e-03 -2.38242154e-02  8.72549921e-03  2.91013557e-02\n",
      "   1.61094175e-02  3.35556801e-02  4.33751242e-02  2.40294279e-02\n",
      "   1.44145563e-02  2.39017936e-02  1.72076091e-02  4.51276959e-02\n",
      "   2.70322315e-02  4.25573003e-02  2.88964030e-02  2.60564695e-02\n",
      "   1.64626281e-02 -9.10119324e-03  3.83249665e-02  4.82022005e-03\n",
      "   2.17639456e-02  4.68927799e-02  2.75808979e-02  5.23322714e-03\n",
      "   2.87077700e-02  3.34417370e-02  4.30522495e-02 -5.05899071e-02\n",
      "  -3.90901601e-02 -4.06422316e-02 -3.30962786e-02 -5.31149337e-02\n",
      "  -2.52360805e-02 -7.20218665e-02 -9.98287400e-02 -5.88372193e-02\n",
      "  -5.34150436e-02 -1.03908478e-02 -5.92935956e-02  3.31267339e-02\n",
      "  -5.02615218e-02 -2.84916044e-02 -1.82375272e-02 -2.86906123e-03\n",
      "  -1.40349202e-02  1.08109275e-02 -6.15272147e-04 -3.45028994e-02\n",
      "   2.14700431e-02 -7.01586693e-03 -8.24227360e-02 -3.25745530e-02\n",
      "   4.48765096e-02  4.79613317e-02  3.00194043e-02  1.63763276e-02\n",
      "  -3.19663211e-02 -2.82286782e-02 -4.41567193e-02  1.59330557e-02\n",
      "   6.16934401e-02  3.17326735e-02  3.09039753e-02 -3.17662988e-02\n",
      "  -7.14657803e-03 -1.54357521e-02  3.73877451e-02  1.12162563e-02\n",
      "  -3.99842945e-02  3.71942728e-02 -6.95584325e-02 -3.55458942e-02\n",
      "   3.91013419e-02  1.11786332e-02 -5.57046692e-03  6.10747473e-04\n",
      "  -1.44920347e-02  2.33957656e-02  4.08274386e-03  2.96275823e-02\n",
      "   2.16851514e-02 -1.44504133e-02  1.55136677e-02 -1.46986885e-02\n",
      "   1.58085104e-02 -2.98893070e-02 -8.50199877e-03  1.05433322e-02\n",
      "   6.27738521e-02  2.66757281e-02  2.51170616e-02 -7.76700410e-02\n",
      "   2.81533205e-02  3.80327982e-02  9.70212530e-05  3.95635799e-02\n",
      "   3.17180199e-02  1.09458115e-02  8.49146063e-02  3.79933211e-02\n",
      "   1.37636648e-03  8.41003837e-02  4.58405260e-02 -7.60877103e-03\n",
      "   3.83831543e-02  6.84384270e-03  1.67246683e-02  8.09283812e-02\n",
      "   3.86844542e-02  3.66455666e-02  4.24102578e-02  2.82408799e-02\n",
      "   2.76610849e-02  4.37567424e-02  4.92537203e-02  4.73295179e-03\n",
      "   1.88076208e-02  2.14914578e-02  6.89041427e-02  5.18046736e-02\n",
      "   5.56182209e-02  2.85337096e-02  1.80979815e-02  6.53884464e-02\n",
      "  -2.80728883e-03  1.08933314e-02  7.80846069e-03  9.59991175e-02\n",
      "   2.74425733e-02  5.53235187e-02  5.55827974e-02  4.22292019e-02\n",
      "   2.85500780e-02  1.80380467e-02 -4.12332703e-03  2.95261748e-02\n",
      "   1.44559991e-02  3.34005087e-02  5.35324085e-02  1.88552214e-02\n",
      "   4.30235442e-02  4.05632437e-02  8.43617279e-02  5.85803944e-02\n",
      "   9.26103197e-03  1.91750038e-02  4.41181159e-02  1.78700600e-03\n",
      "   2.12579755e-02  3.66162676e-03  2.63565143e-02  2.79370293e-02\n",
      "   2.72063235e-02  7.39360317e-02  8.55779152e-03  2.57471985e-02\n",
      "   1.10270442e-02  2.28182527e-02  1.33669423e-02  2.93864966e-02\n",
      "   2.47935236e-02  1.72508185e-02  3.63394174e-02  1.93985320e-02\n",
      "  -9.53827090e-03  4.87590940e-02  6.11980318e-02  5.34294963e-02\n",
      "   4.53353027e-02 -4.87062085e-03  2.70898108e-02  7.07943683e-02\n",
      "   2.63332320e-02  3.35621823e-02  4.74985736e-02  3.01008791e-02\n",
      "   2.34676281e-02  1.10901879e-02  3.41082957e-02  1.07724612e-02\n",
      "   3.88532231e-02  2.97137172e-02  2.38569898e-02 -8.43170434e-03\n",
      "  -5.58953202e-03  3.76633719e-02  7.11899395e-03 -5.46135101e-03\n",
      "   1.30801763e-02  1.86900633e-02  3.12188989e-02  3.48949596e-02\n",
      "   4.55551022e-02  1.98865369e-02  1.87461172e-02  3.16114175e-02\n",
      "   4.23495149e-02  5.07200853e-02  3.13473954e-02  1.87482838e-02\n",
      "   2.33734715e-02  3.19205923e-02  2.14024497e-02  4.35463367e-02\n",
      "   2.65360304e-02  2.17700124e-02  7.02407426e-02  3.87406919e-02\n",
      "   7.07622740e-02  2.71737035e-02 -3.98377134e-03  3.67830728e-02\n",
      "  -2.05807865e-03  2.70558039e-02  3.56710698e-02  7.35293318e-02\n",
      "   3.52350484e-02  3.58414345e-02  6.48253289e-02  1.27005461e-02\n",
      "   2.41158723e-02  3.56324599e-02  6.15363618e-02  4.00018291e-03\n",
      "   1.38098884e-02  3.30905055e-02  4.29749283e-02  5.88184652e-02\n",
      "   6.26402341e-02  3.61601384e-02  6.05319033e-02  3.90883215e-02\n",
      "   5.39019899e-02  8.07709474e-03  8.33306484e-02  5.15744571e-02\n",
      "   3.28631653e-02  2.71583590e-02  5.25189635e-02  6.54660815e-02\n",
      "   9.25833249e-02  9.41010204e-02  5.35806655e-02  3.11237166e-02\n",
      "   5.27525267e-02  8.04090982e-02  5.82331966e-02  4.36434021e-02\n",
      "   7.09081060e-02  7.19628622e-02  6.50315464e-02  4.45568515e-02\n",
      "   2.62870123e-02  7.53667169e-02  4.73328980e-02  2.99266657e-02\n",
      "   1.07863501e-02  7.27366010e-02  9.74109066e-02  7.14214448e-02\n",
      "   3.65100905e-02  6.61746497e-02  1.69712107e-02  8.15458790e-03]]\n"
     ]
    }
   ],
   "source": [
    "print(pca.components_)"
   ]
  },
  {
   "cell_type": "code",
   "execution_count": 102,
   "metadata": {},
   "outputs": [
    {
     "name": "stdout",
     "output_type": "stream",
     "text": [
      "[382.76400793   8.1677184 ]\n"
     ]
    }
   ],
   "source": [
    "print(pca.explained_variance_)"
   ]
  },
  {
   "cell_type": "code",
   "execution_count": 103,
   "metadata": {},
   "outputs": [
    {
     "name": "stdout",
     "output_type": "stream",
     "text": [
      "[0.76552802 0.01633544]\n"
     ]
    }
   ],
   "source": [
    "print(pca.explained_variance_ratio_)"
   ]
  },
  {
   "cell_type": "code",
   "execution_count": 107,
   "metadata": {},
   "outputs": [
    {
     "data": {
      "image/png": "[encoded data removed]",
      "text/plain": [
       "<Figure size 1080x432 with 1 Axes>"
      ]
     },
     "metadata": {
      "needs_background": "light"
     },
     "output_type": "display_data"
    }
   ],
   "source": [
    "pca = PCA().fit(drpdata)\n",
    "plt.plot(np.cumsum(pca.explained_variance_ratio_))\n",
    "plt.xlabel('number of components')\n",
    "plt.ylabel('cumulative explained variance');"
   ]
  },
  {
   "cell_type": "code",
   "execution_count": null,
   "metadata": {},
   "outputs": [],
   "source": [
    "# It seems that if were to compress the data of these patients, \n",
    "#     then I have to use all 500 of these components as the graph suggests"
   ]
  },
  {
   "cell_type": "code",
   "execution_count": null,
   "metadata": {},
   "outputs": [],
   "source": []
  },
  {
   "cell_type": "code",
   "execution_count": null,
   "metadata": {},
   "outputs": [],
   "source": []
  },
  {
   "cell_type": "code",
   "execution_count": null,
   "metadata": {},
   "outputs": [],
   "source": []
  },
  {
   "cell_type": "code",
   "execution_count": 112,
   "metadata": {},
   "outputs": [
    {
     "name": "stdout",
     "output_type": "stream",
     "text": [
      "original shape:    (18042, 500)\n",
      "transformed shape: (18042, 1)\n"
     ]
    }
   ],
   "source": [
    "# reduction\n",
    "# reducing the dimension of the transformed data into a single dimension.\n",
    "\n",
    "pca = PCA(n_components=1)\n",
    "pca.fit(drpdata)\n",
    "drpdatapca = pca.transform(drpdata)\n",
    "print(\"original shape:   \", drpdata.shape)\n",
    "print(\"transformed shape:\", drpdatapca.shape)"
   ]
  },
  {
   "cell_type": "code",
   "execution_count": 113,
   "metadata": {},
   "outputs": [
    {
     "data": {
      "image/png": "[encoded data removed]",
      "text/plain": [
       "<Figure size 1080x432 with 1 Axes>"
      ]
     },
     "metadata": {
      "needs_background": "light"
     },
     "output_type": "display_data"
    }
   ],
   "source": [
    "drpdatanew = pca.inverse_transform(drpdatapca)\n",
    "plt.scatter(drpdata, drpdata, alpha=0.2)\n",
    "plt.scatter(drpdatanew, drpdatanew, alpha=0.8)\n",
    "plt.axis('equal');"
   ]
  },
  {
   "cell_type": "code",
   "execution_count": 124,
   "metadata": {},
   "outputs": [
    {
     "data": {
      "text/plain": [
       "<matplotlib.collections.PathCollection at 0x2a20ad23710>"
      ]
     },
     "execution_count": 124,
     "metadata": {},
     "output_type": "execute_result"
    },
    {
     "data": {
      "image/png": "[encoded data removed]",
      "text/plain": [
       "<Figure size 1080x432 with 1 Axes>"
      ]
     },
     "metadata": {
      "needs_background": "light"
     },
     "output_type": "display_data"
    }
   ],
   "source": [
    "plt.scatter(drpdata, drpdata, alpha=0.2)"
   ]
  },
  {
   "cell_type": "code",
   "execution_count": null,
   "metadata": {},
   "outputs": [],
   "source": []
  }
 ],
 "metadata": {
  "kernelspec": {
   "display_name": "Python 3",
   "language": "python",
   "name": "python3"
  },
  "language_info": {
   "codemirror_mode": {
    "name": "ipython",
    "version": 3
   },
   "file_extension": ".py",
   "mimetype": "text/x-python",
   "name": "python",
   "nbconvert_exporter": "python",
   "pygments_lexer": "ipython3",
   "version": "3.7.3"
  }
 },
 "nbformat": 4,
 "nbformat_minor": 2
}
